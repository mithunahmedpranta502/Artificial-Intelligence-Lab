{
  "nbformat": 4,
  "nbformat_minor": 0,
  "metadata": {
    "colab": {
      "name": "NoteBook 2 Practice.ipynb",
      "provenance": [],
      "authorship_tag": "ABX9TyPwbis8ML7yqTtrwlJBsXg3",
      "include_colab_link": true
    },
    "kernelspec": {
      "name": "python3",
      "display_name": "Python 3"
    }
  },
  "cells": [
    {
      "cell_type": "markdown",
      "metadata": {
        "id": "view-in-github",
        "colab_type": "text"
      },
      "source": [
        "<a href=\"https://colab.research.google.com/github/mithunahmedpranta502/Artificial-Intelligence-Lab/blob/main/NoteBook_2_Practice.ipynb\" target=\"_parent\"><img src=\"https://colab.research.google.com/assets/colab-badge.svg\" alt=\"Open In Colab\"/></a>"
      ]
    },
    {
      "cell_type": "markdown",
      "metadata": {
        "id": "yT89MekNvMY8"
      },
      "source": [
        "#***If Statement:***"
      ]
    },
    {
      "cell_type": "code",
      "metadata": {
        "id": "kE1as7ozvcVs",
        "outputId": "93eb1a99-f806-4f33-f939-e64eb53348b1",
        "colab": {
          "base_uri": "https://localhost:8080/",
          "height": 34
        }
      },
      "source": [
        "grade = 80\n",
        "if grade>=40:\n",
        "  print(\"Passed\")"
      ],
      "execution_count": null,
      "outputs": [
        {
          "output_type": "stream",
          "text": [
            "Passed\n"
          ],
          "name": "stdout"
        }
      ]
    },
    {
      "cell_type": "markdown",
      "metadata": {
        "id": "QTsjkRx1v_Zr"
      },
      "source": [
        "#***If else Statement:***"
      ]
    },
    {
      "cell_type": "code",
      "metadata": {
        "id": "8q8YfwEiwH7f",
        "outputId": "e77a6312-28f8-47b8-8ffd-53a94852a703",
        "colab": {
          "base_uri": "https://localhost:8080/",
          "height": 34
        }
      },
      "source": [
        "grade = 85\n",
        "if grade>=60:\n",
        "  print(\"Passed\")\n",
        "else:\n",
        "    print(\"Failed\")"
      ],
      "execution_count": null,
      "outputs": [
        {
          "output_type": "stream",
          "text": [
            "Passed\n"
          ],
          "name": "stdout"
        }
      ]
    },
    {
      "cell_type": "markdown",
      "metadata": {
        "id": "uq7WUwZDxtx5"
      },
      "source": [
        "***Conditional Expression:***"
      ]
    },
    {
      "cell_type": "code",
      "metadata": {
        "id": "mgaSk5Bbx37Z"
      },
      "source": [
        "result = ('Passed' if grade >= 60 else 'Failed')"
      ],
      "execution_count": null,
      "outputs": []
    },
    {
      "cell_type": "code",
      "metadata": {
        "id": "-AeKO9CryMHj",
        "outputId": "c58f671f-41b4-43ff-d4be-729075dcecc9",
        "colab": {
          "base_uri": "https://localhost:8080/",
          "height": 34
        }
      },
      "source": [
        "print(result)"
      ],
      "execution_count": null,
      "outputs": [
        {
          "output_type": "stream",
          "text": [
            "Passed\n"
          ],
          "name": "stdout"
        }
      ]
    },
    {
      "cell_type": "markdown",
      "metadata": {
        "id": "gxPxs5yayZyN"
      },
      "source": [
        "#***If...elif...else Statement:***"
      ]
    },
    {
      "cell_type": "code",
      "metadata": {
        "id": "PjdkFiIzynpB",
        "outputId": "fdcdefd4-60ba-4d4f-d8bb-480a4324a874",
        "colab": {
          "base_uri": "https://localhost:8080/",
          "height": 34
        }
      },
      "source": [
        "grade = 85\n",
        "\n",
        "if grade >= 90:\n",
        "  print('A')\n",
        "elif grade >= 80:\n",
        "  print('B')\n",
        "elif grade >= 70:\n",
        "  print('C')\n",
        "elif grade >= 60:\n",
        "  print('D')\n",
        "else:\n",
        "  print('F')"
      ],
      "execution_count": null,
      "outputs": [
        {
          "output_type": "stream",
          "text": [
            "B\n"
          ],
          "name": "stdout"
        }
      ]
    },
    {
      "cell_type": "markdown",
      "metadata": {
        "id": "VmlkM6CNzryD"
      },
      "source": [
        "#***While Statement:***"
      ]
    },
    {
      "cell_type": "code",
      "metadata": {
        "id": "a0ySAHe4zwoo",
        "outputId": "8c1de232-a495-4221-e650-1986dd909426",
        "colab": {
          "base_uri": "https://localhost:8080/",
          "height": 34
        }
      },
      "source": [
        "number = 1\n",
        "\n",
        "while (number<16):\n",
        "  print(number, end=\" \") #print in same line with space using end = \" \"\n",
        "  number+=1"
      ],
      "execution_count": null,
      "outputs": [
        {
          "output_type": "stream",
          "text": [
            "1 2 3 4 5 6 7 8 9 10 11 12 13 14 15 "
          ],
          "name": "stdout"
        }
      ]
    },
    {
      "cell_type": "markdown",
      "metadata": {
        "id": "eM1Jtr8X0rVq"
      },
      "source": [
        "***While Statement To Find The First Power Of 3 Larger Than 50:***"
      ]
    },
    {
      "cell_type": "code",
      "metadata": {
        "id": "SPrYOcyQ08-L"
      },
      "source": [
        "product = 5\n",
        "\n",
        "while product <= 50:\n",
        "  product = product*3"
      ],
      "execution_count": null,
      "outputs": []
    },
    {
      "cell_type": "code",
      "metadata": {
        "id": "ou-SpCNP1iPY",
        "outputId": "894bdd53-4aec-4b61-c7a1-ee18a8a96e55",
        "colab": {
          "base_uri": "https://localhost:8080/",
          "height": 34
        }
      },
      "source": [
        "print(product)"
      ],
      "execution_count": null,
      "outputs": [
        {
          "output_type": "stream",
          "text": [
            "135\n"
          ],
          "name": "stdout"
        }
      ]
    },
    {
      "cell_type": "markdown",
      "metadata": {
        "id": "8h6M3hT62CIj"
      },
      "source": [
        "#***For Statement:***"
      ]
    },
    {
      "cell_type": "code",
      "metadata": {
        "id": "ubovMAB62Hsp",
        "outputId": "b745d795-e182-4f6f-a507-92df08496e1a",
        "colab": {
          "base_uri": "https://localhost:8080/",
          "height": 34
        }
      },
      "source": [
        "for character in \"python\":\n",
        "  print(character, end=\" \")"
      ],
      "execution_count": null,
      "outputs": [
        {
          "output_type": "stream",
          "text": [
            "p y t h o n "
          ],
          "name": "stdout"
        }
      ]
    },
    {
      "cell_type": "markdown",
      "metadata": {
        "id": "EQq17Fzs2pLH"
      },
      "source": [
        "***Built In Range Function:***"
      ]
    },
    {
      "cell_type": "markdown",
      "metadata": {
        "id": "13UJ_3mL29ud"
      },
      "source": [
        "***Let's use a for statement and the built-in range function to iterate precisely 10 times,displying the values from 0 through 9:***"
      ]
    },
    {
      "cell_type": "code",
      "metadata": {
        "id": "pd1eKc663d72",
        "outputId": "7057d0ba-bd49-46de-c535-7bce5a8b8238",
        "colab": {
          "base_uri": "https://localhost:8080/",
          "height": 34
        }
      },
      "source": [
        "for counter in range(10):\n",
        "  print(counter, end=\" \")"
      ],
      "execution_count": null,
      "outputs": [
        {
          "output_type": "stream",
          "text": [
            "0 1 2 3 4 5 6 7 8 9 "
          ],
          "name": "stdout"
        }
      ]
    },
    {
      "cell_type": "markdown",
      "metadata": {
        "id": "ZKfB_lBy4RqD"
      },
      "source": [
        "***Use the range function and a for statement to calculate the total of the integers from 0 through 1,000,000.***"
      ]
    },
    {
      "cell_type": "code",
      "metadata": {
        "id": "n_Qt87Zm4XSj",
        "outputId": "c30f704e-5db7-4943-de5c-d45280b76728",
        "colab": {
          "base_uri": "https://localhost:8080/",
          "height": 34
        }
      },
      "source": [
        "total = 0\n",
        "for number in range(1000001):\n",
        "  total = total+number\n",
        "\n",
        "print(total)"
      ],
      "execution_count": null,
      "outputs": [
        {
          "output_type": "stream",
          "text": [
            "500000500000\n"
          ],
          "name": "stdout"
        }
      ]
    },
    {
      "cell_type": "markdown",
      "metadata": {
        "id": "jKe_2y1R4gtL"
      },
      "source": [
        "***Function range also has two- and three-argument versions. As you’ve seen, range’s one argument version produces a sequence of consecutive integers from 0 up to, but not including, the argument’s value. Function range’s two-argument version produces a sequence of consecutive integers from its first argument’s value up to, but not including, the second argument’s value, as in:***"
      ]
    },
    {
      "cell_type": "code",
      "metadata": {
        "id": "Q-9s9f2l4mKB",
        "outputId": "93b21053-606b-4cea-cf8d-e8df90a245d8",
        "colab": {
          "base_uri": "https://localhost:8080/",
          "height": 34
        }
      },
      "source": [
        "for number in range(5,10):\n",
        "  print(number, end=\" \")"
      ],
      "execution_count": null,
      "outputs": [
        {
          "output_type": "stream",
          "text": [
            "5 6 7 8 9 "
          ],
          "name": "stdout"
        }
      ]
    },
    {
      "cell_type": "markdown",
      "metadata": {
        "id": "654CXL_84wBd"
      },
      "source": [
        "***Function range’s three-argument version produces a sequence of integers from its first argument’s value up to, but not including, the second argument’s value, incrementing by the third argument’s value, which is known as the step:***"
      ]
    },
    {
      "cell_type": "code",
      "metadata": {
        "id": "EOP-fz4J40JM",
        "outputId": "5b3a97e8-b684-40f6-95ab-3c42d3ba9e96",
        "colab": {
          "base_uri": "https://localhost:8080/",
          "height": 34
        }
      },
      "source": [
        "for number in range(0,10,2):\n",
        "  print(number, end=\" \")"
      ],
      "execution_count": null,
      "outputs": [
        {
          "output_type": "stream",
          "text": [
            "0 2 4 6 8 "
          ],
          "name": "stdout"
        }
      ]
    },
    {
      "cell_type": "markdown",
      "metadata": {
        "id": "4ZrFOorn47nJ"
      },
      "source": [
        "***If the third argument is negative, the sequence progresses from the first argument’s value down to, but not including the second argument’s value, decrementing by the third argument’s value, as in:***"
      ]
    },
    {
      "cell_type": "code",
      "metadata": {
        "id": "_oeDJAe94_qC",
        "outputId": "4eb57943-f5b7-4bda-cea5-c516129aafd6",
        "colab": {
          "base_uri": "https://localhost:8080/",
          "height": 34
        }
      },
      "source": [
        "for number in range(10,0,-2):\n",
        "  print(number, end=\" \")"
      ],
      "execution_count": null,
      "outputs": [
        {
          "output_type": "stream",
          "text": [
            "10 8 6 4 2 "
          ],
          "name": "stdout"
        }
      ]
    },
    {
      "cell_type": "markdown",
      "metadata": {
        "id": "zQbYiQ-m5OC0"
      },
      "source": [
        "***Number table print using range function***\n",
        "\n",
        "\n",
        "---\n",
        "\n",
        "\n",
        "\n",
        "---\n",
        "\n",
        "\n",
        "\n",
        "***Take an input from user and print the number table***"
      ]
    },
    {
      "cell_type": "code",
      "metadata": {
        "id": "rKxF_-355ww6",
        "outputId": "cebfdfb3-dc50-4647-9a96-f62d0cea7255",
        "colab": {
          "base_uri": "https://localhost:8080/",
          "height": 34
        }
      },
      "source": [
        "number = int(input())"
      ],
      "execution_count": null,
      "outputs": [
        {
          "output_type": "stream",
          "text": [
            "8\n"
          ],
          "name": "stdout"
        }
      ]
    },
    {
      "cell_type": "code",
      "metadata": {
        "id": "jRzrhNwK54to",
        "outputId": "7b19cc49-6b07-46ea-ea74-56f62b628052",
        "colab": {
          "base_uri": "https://localhost:8080/",
          "height": 187
        }
      },
      "source": [
        "for i in range(1,11):\n",
        "  print(number,\"X\",i,\"=\",number*i)"
      ],
      "execution_count": null,
      "outputs": [
        {
          "output_type": "stream",
          "text": [
            "8 X 1 = 8\n",
            "8 X 2 = 16\n",
            "8 X 3 = 24\n",
            "8 X 4 = 32\n",
            "8 X 5 = 40\n",
            "8 X 6 = 48\n",
            "8 X 7 = 56\n",
            "8 X 8 = 64\n",
            "8 X 9 = 72\n",
            "8 X 10 = 80\n"
          ],
          "name": "stdout"
        }
      ]
    },
    {
      "cell_type": "markdown",
      "metadata": {
        "id": "UPI8JHEm6FyJ"
      },
      "source": [
        "#***Nested For Loop***"
      ]
    },
    {
      "cell_type": "code",
      "metadata": {
        "id": "75Ad9J926JEy",
        "outputId": "576668cb-d579-489e-bdee-2ab3ce547167",
        "colab": {
          "base_uri": "https://localhost:8080/",
          "height": 136
        }
      },
      "source": [
        "for left in range(7):\n",
        "    for right in range(left,7):\n",
        "        print(\"[\"+str(left)+\"|\"+str(right)+\"]\", end =\" \")\n",
        "    print()"
      ],
      "execution_count": null,
      "outputs": [
        {
          "output_type": "stream",
          "text": [
            "[0|0] [0|1] [0|2] [0|3] [0|4] [0|5] [0|6] \n",
            "[1|1] [1|2] [1|3] [1|4] [1|5] [1|6] \n",
            "[2|2] [2|3] [2|4] [2|5] [2|6] \n",
            "[3|3] [3|4] [3|5] [3|6] \n",
            "[4|4] [4|5] [4|6] \n",
            "[5|5] [5|6] \n",
            "[6|6] \n"
          ],
          "name": "stdout"
        }
      ]
    },
    {
      "cell_type": "markdown",
      "metadata": {
        "id": "vQZ2qPUX6gR_"
      },
      "source": [
        "#***Break Statement:***"
      ]
    },
    {
      "cell_type": "code",
      "metadata": {
        "id": "tNGPKQiL6kDH",
        "outputId": "4cca2764-ab6f-4df9-dbfb-78c05f4c032e",
        "colab": {
          "base_uri": "https://localhost:8080/",
          "height": 34
        }
      },
      "source": [
        "for number in range(10):\n",
        "  if  number==5:\n",
        "    break\n",
        "  print(number, end=\" \")"
      ],
      "execution_count": null,
      "outputs": [
        {
          "output_type": "stream",
          "text": [
            "0 1 2 3 4 "
          ],
          "name": "stdout"
        }
      ]
    },
    {
      "cell_type": "markdown",
      "metadata": {
        "id": "qmM72nOl6rUA"
      },
      "source": [
        "#***Continue Statement:***"
      ]
    },
    {
      "cell_type": "code",
      "metadata": {
        "id": "INYmtcBm6vFk",
        "outputId": "ce2a71f3-cf05-46e8-b9a3-f50d8b769faf",
        "colab": {
          "base_uri": "https://localhost:8080/",
          "height": 34
        }
      },
      "source": [
        "for number in range(10):\n",
        "  if  number==5:\n",
        "    continue\n",
        "  print(number, end=\" \")"
      ],
      "execution_count": null,
      "outputs": [
        {
          "output_type": "stream",
          "text": [
            "0 1 2 3 4 6 7 8 9 "
          ],
          "name": "stdout"
        }
      ]
    },
    {
      "cell_type": "markdown",
      "metadata": {
        "id": "u8_ix2l_7n-H"
      },
      "source": [
        "#***Beginner Problem solving from Uri Online Judge:***"
      ]
    },
    {
      "cell_type": "markdown",
      "metadata": {
        "id": "aD5khiC374nw"
      },
      "source": [
        "***Extremely Basic:***\n",
        "***Read 2 variables, named A and B and make the sum of these two variables, assigning its result to the variable X. Print X as shown below. Print endline after the result otherwise you will get “Presentation Error”.***"
      ]
    },
    {
      "cell_type": "code",
      "metadata": {
        "id": "jQZRR8Ze9FIZ",
        "outputId": "94b58a4b-6049-431e-d0d2-65eee9e55524",
        "colab": {
          "base_uri": "https://localhost:8080/",
          "height": 85
        }
      },
      "source": [
        "A = int(input()) \n",
        "B = int(input()) \n",
        "X = A + B \n",
        "print(\"X = %d\\n\"%X)"
      ],
      "execution_count": 39,
      "outputs": [
        {
          "output_type": "stream",
          "text": [
            "10\n",
            "7\n",
            "X = 17\n",
            "\n"
          ],
          "name": "stdout"
        }
      ]
    },
    {
      "cell_type": "code",
      "metadata": {
        "id": "Udf1meTj9UJT",
        "outputId": "de3d963d-dc1a-4428-a830-3b747998cc52",
        "colab": {
          "base_uri": "https://localhost:8080/",
          "height": 85
        }
      },
      "source": [
        "A = int(input()) \n",
        "B = int(input()) \n",
        "X = A + B \n",
        "print(\"X = %d\\n\"%X)"
      ],
      "execution_count": 40,
      "outputs": [
        {
          "output_type": "stream",
          "text": [
            "-10\n",
            "4\n",
            "X = -6\n",
            "\n"
          ],
          "name": "stdout"
        }
      ]
    },
    {
      "cell_type": "markdown",
      "metadata": {
        "id": "yZVSGun5-C4r"
      },
      "source": [
        "***Area of a Circle:The formula to calculate the area of a circumference is defined as A = π . R2. Considering to this problem that π = 3.14159:***\n",
        "\n",
        "***Calculate the area using the formula given in the problem description.***"
      ]
    },
    {
      "cell_type": "code",
      "metadata": {
        "id": "YQZwjrsZ-GqB",
        "outputId": "36189b4d-660c-4a81-ed63-2f1d49b8dbe3",
        "colab": {
          "base_uri": "https://localhost:8080/",
          "height": 51
        }
      },
      "source": [
        "r = float(input())\n",
        "pi = 3.14159\n",
        "a = pi * (pow(r,2))\n",
        "print(\"A=%.4f\"% a)"
      ],
      "execution_count": 41,
      "outputs": [
        {
          "output_type": "stream",
          "text": [
            "2.00\n",
            "A=12.5664\n"
          ],
          "name": "stdout"
        }
      ]
    },
    {
      "cell_type": "markdown",
      "metadata": {
        "id": "B-CRq210-4P_"
      },
      "source": [
        "***Difference:Read four integer values named A, B, C and D. Calculate and print the difference of product A and B by the product of C and D (A * B - C * D).***"
      ]
    },
    {
      "cell_type": "code",
      "metadata": {
        "id": "anSJ-eQ5_ARt",
        "outputId": "9b2ac2ca-dd39-49e4-8724-e6feba6ac886",
        "colab": {
          "base_uri": "https://localhost:8080/",
          "height": 102
        }
      },
      "source": [
        "A= int(input())\n",
        "B= int(input())\n",
        "C= int(input())\n",
        "D= int(input())\n",
        "\n",
        "difference=((A * B) - (C * D))\n",
        "\n",
        "print(\"DIFERENCA = %d\" %difference)"
      ],
      "execution_count": 42,
      "outputs": [
        {
          "output_type": "stream",
          "text": [
            "5\n",
            "6\n",
            "7\n",
            "8\n",
            "DIFERENCA = -26\n"
          ],
          "name": "stdout"
        }
      ]
    },
    {
      "cell_type": "markdown",
      "metadata": {
        "id": "dVvoayzYAMRA"
      },
      "source": [
        "***Age in Days:Read an integer value corresponding to a person's age (in days) and print it in years, months and days, followed by its respective message “ano(s)”, “mes(es)”, “dia(s)”.***\n",
        "\n",
        "***Note: only to facilitate the calculation, consider the whole year with 365 days and 30 days every month. In the cases of test there will never be a situation that allows 12 months and some days, like 360, 363 or 364. This is just an exercise for the purpose of testing simple mathematical reasoning.***"
      ]
    },
    {
      "cell_type": "code",
      "metadata": {
        "id": "UWWkNmRQAcGb",
        "outputId": "3bb851d9-e626-4701-8d57-4f2028a18927",
        "colab": {
          "base_uri": "https://localhost:8080/",
          "height": 85
        }
      },
      "source": [
        "D = int(input())\n",
        "Y = int(D/365)\n",
        "D = int(D%365)\n",
        "M = int(D/30)\n",
        "D = D%30\n",
        "print(\"%d ano(s)\"%Y)\n",
        "print(\"%d mes(es)\"%M)\n",
        "print(\"%d dia(s)\"%D)"
      ],
      "execution_count": 43,
      "outputs": [
        {
          "output_type": "stream",
          "text": [
            "400\n",
            "1 ano(s)\n",
            "1 mes(es)\n",
            "5 dia(s)\n"
          ],
          "name": "stdout"
        }
      ]
    }
  ]
}