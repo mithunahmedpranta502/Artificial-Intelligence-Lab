{
  "nbformat": 4,
  "nbformat_minor": 0,
  "metadata": {
    "colab": {
      "name": "NoteBook 1 Practice.ipynb",
      "provenance": [],
      "authorship_tag": "ABX9TyMSiRM3MFIIv9mWVaYH4T1I",
      "include_colab_link": true
    },
    "kernelspec": {
      "name": "python3",
      "display_name": "Python 3"
    }
  },
  "cells": [
    {
      "cell_type": "markdown",
      "metadata": {
        "id": "view-in-github",
        "colab_type": "text"
      },
      "source": [
        "<a href=\"https://colab.research.google.com/github/mithunahmedpranta502/Artificial-Intelligence-Lab/blob/main/NoteBook_1_Practice.ipynb\" target=\"_parent\"><img src=\"https://colab.research.google.com/assets/colab-badge.svg\" alt=\"Open In Colab\"/></a>"
      ]
    },
    {
      "cell_type": "markdown",
      "metadata": {
        "id": "kukQI8xRFNXC"
      },
      "source": [
        "#***My Python First Program \"Print Hello World\"***"
      ]
    },
    {
      "cell_type": "code",
      "metadata": {
        "id": "PDtipZ9JF-1o",
        "outputId": "18e08254-e823-411c-f2cc-66b8a977f3ff",
        "colab": {
          "base_uri": "https://localhost:8080/",
          "height": 34
        }
      },
      "source": [
        "print(\"Hello World\")"
      ],
      "execution_count": null,
      "outputs": [
        {
          "output_type": "stream",
          "text": [
            "Hello World\n"
          ],
          "name": "stdout"
        }
      ]
    },
    {
      "cell_type": "markdown",
      "metadata": {
        "id": "IOk42LKDH_kQ"
      },
      "source": [
        "#***Variables And Assignment Statements:***"
      ]
    },
    {
      "cell_type": "code",
      "metadata": {
        "id": "FqBcBNfpIXPZ",
        "outputId": "701ae1f1-f633-425e-9418-7df05424bccb",
        "colab": {
          "base_uri": "https://localhost:8080/",
          "height": 34
        }
      },
      "source": [
        "x=5\n",
        "y=7\n",
        "print(x+y)"
      ],
      "execution_count": null,
      "outputs": [
        {
          "output_type": "stream",
          "text": [
            "12\n"
          ],
          "name": "stdout"
        }
      ]
    },
    {
      "cell_type": "code",
      "metadata": {
        "id": "OHt6keHqMpL_",
        "outputId": "83084823-59e6-4c4c-93d4-995ffe3f1b15",
        "colab": {
          "base_uri": "https://localhost:8080/",
          "height": 34
        }
      },
      "source": [
        "total = x+y\n",
        "print(total)"
      ],
      "execution_count": null,
      "outputs": [
        {
          "output_type": "stream",
          "text": [
            "12\n"
          ],
          "name": "stdout"
        }
      ]
    },
    {
      "cell_type": "markdown",
      "metadata": {
        "id": "LGUn6v58NOuo"
      },
      "source": [
        "#***String:***"
      ]
    },
    {
      "cell_type": "code",
      "metadata": {
        "id": "9S1tJpEPNXk5",
        "outputId": "881dccf4-f746-4a43-9f1e-2ffc5d32a873",
        "colab": {
          "base_uri": "https://localhost:8080/",
          "height": 34
        }
      },
      "source": [
        "name1 = \"Mithun\"\n",
        "name2 = \"Ahmed\"\n",
        "name3 = \"Pranta\"\n",
        "print(name1 , name2 , name3)"
      ],
      "execution_count": null,
      "outputs": [
        {
          "output_type": "stream",
          "text": [
            "Mithun Ahmed Pranta\n"
          ],
          "name": "stdout"
        }
      ]
    },
    {
      "cell_type": "markdown",
      "metadata": {
        "id": "lAUjEd5rOGih"
      },
      "source": [
        "#***Types:***"
      ]
    },
    {
      "cell_type": "code",
      "metadata": {
        "id": "KJWR3G6gOVbH",
        "outputId": "e623f7b0-da66-45ba-f19c-c0a209d0a985",
        "colab": {
          "base_uri": "https://localhost:8080/",
          "height": 34
        }
      },
      "source": [
        "x = 20\n",
        "type(x)"
      ],
      "execution_count": null,
      "outputs": [
        {
          "output_type": "execute_result",
          "data": {
            "text/plain": [
              "int"
            ]
          },
          "metadata": {
            "tags": []
          },
          "execution_count": 5
        }
      ]
    },
    {
      "cell_type": "code",
      "metadata": {
        "id": "zggUg5gYO4NE",
        "outputId": "44e27c52-c8ed-46aa-8316-ac9134f75ea0",
        "colab": {
          "base_uri": "https://localhost:8080/",
          "height": 34
        }
      },
      "source": [
        "x = 40.5\n",
        "type(x)"
      ],
      "execution_count": null,
      "outputs": [
        {
          "output_type": "execute_result",
          "data": {
            "text/plain": [
              "float"
            ]
          },
          "metadata": {
            "tags": []
          },
          "execution_count": 6
        }
      ]
    },
    {
      "cell_type": "code",
      "metadata": {
        "id": "lh3kHZbBPQko",
        "outputId": "d540a3d0-0613-4c90-e05f-57d70718a806",
        "colab": {
          "base_uri": "https://localhost:8080/",
          "height": 34
        }
      },
      "source": [
        "x = name1\n",
        "type(x)"
      ],
      "execution_count": null,
      "outputs": [
        {
          "output_type": "execute_result",
          "data": {
            "text/plain": [
              "str"
            ]
          },
          "metadata": {
            "tags": []
          },
          "execution_count": 8
        }
      ]
    },
    {
      "cell_type": "markdown",
      "metadata": {
        "id": "UKrbGhwEPcdx"
      },
      "source": [
        "#***Arithmetic Operators:***"
      ]
    },
    {
      "cell_type": "code",
      "metadata": {
        "id": "wHVx_RsRQvKD",
        "outputId": "53c3d152-6f09-4f2b-b7d7-d6d1e331699b",
        "colab": {
          "base_uri": "https://localhost:8080/",
          "height": 34
        }
      },
      "source": [
        "multiplication = 5*8\n",
        "print(multiplication)"
      ],
      "execution_count": null,
      "outputs": [
        {
          "output_type": "stream",
          "text": [
            "40\n"
          ],
          "name": "stdout"
        }
      ]
    },
    {
      "cell_type": "code",
      "metadata": {
        "id": "CnRobsB7Rw4p",
        "outputId": "fc5ecbc1-39f5-4251-fde7-19d47dc11b9a",
        "colab": {
          "base_uri": "https://localhost:8080/",
          "height": 34
        }
      },
      "source": [
        "addition = 5+5\n",
        "print(addition)"
      ],
      "execution_count": null,
      "outputs": [
        {
          "output_type": "stream",
          "text": [
            "10\n"
          ],
          "name": "stdout"
        }
      ]
    },
    {
      "cell_type": "code",
      "metadata": {
        "id": "Y2OjRbL2R_fk",
        "outputId": "6e900c57-cb52-4f9b-8fc5-ab9768f06c07",
        "colab": {
          "base_uri": "https://localhost:8080/",
          "height": 34
        }
      },
      "source": [
        "substraction = 25-10\n",
        "print(substraction)"
      ],
      "execution_count": null,
      "outputs": [
        {
          "output_type": "stream",
          "text": [
            "15\n"
          ],
          "name": "stdout"
        }
      ]
    },
    {
      "cell_type": "code",
      "metadata": {
        "id": "5JAdcn9lSxeg",
        "outputId": "7f17c769-e6c4-4244-c9e7-1ef0cd16a9b3",
        "colab": {
          "base_uri": "https://localhost:8080/",
          "height": 34
        }
      },
      "source": [
        "Exponentiation = 2**10\n",
        "print(Exponentiation)"
      ],
      "execution_count": null,
      "outputs": [
        {
          "output_type": "stream",
          "text": [
            "1024\n"
          ],
          "name": "stdout"
        }
      ]
    },
    {
      "cell_type": "markdown",
      "metadata": {
        "id": "33MSo8BeUIF5"
      },
      "source": [
        "***True Division(/) Vs Floor Division(//)***"
      ]
    },
    {
      "cell_type": "code",
      "metadata": {
        "id": "ePPeYPKhUadT",
        "outputId": "1dadfdc2-d122-427b-ad0d-386af6f5c929",
        "colab": {
          "base_uri": "https://localhost:8080/",
          "height": 34
        }
      },
      "source": [
        "True_Division = 2/10\n",
        "print(True_Division)"
      ],
      "execution_count": null,
      "outputs": [
        {
          "output_type": "stream",
          "text": [
            "0.2\n"
          ],
          "name": "stdout"
        }
      ]
    },
    {
      "cell_type": "code",
      "metadata": {
        "id": "e5DZ6q4HVCke",
        "outputId": "63462d1e-8c50-4d5a-8e00-c07d5f328e1e",
        "colab": {
          "base_uri": "https://localhost:8080/",
          "height": 34
        }
      },
      "source": [
        "Floor_Division = 7//4\n",
        "print(Floor_Division)"
      ],
      "execution_count": null,
      "outputs": [
        {
          "output_type": "stream",
          "text": [
            "1\n"
          ],
          "name": "stdout"
        }
      ]
    },
    {
      "cell_type": "code",
      "metadata": {
        "id": "78LtYpczVZdY",
        "outputId": "dcba00b4-ea2c-4a92-f15a-49d462f2e6e9",
        "colab": {
          "base_uri": "https://localhost:8080/",
          "height": 34
        }
      },
      "source": [
        "remainder = 7%4\n",
        "print(remainder)"
      ],
      "execution_count": null,
      "outputs": [
        {
          "output_type": "stream",
          "text": [
            "3\n"
          ],
          "name": "stdout"
        }
      ]
    },
    {
      "cell_type": "markdown",
      "metadata": {
        "id": "WLVIkClZWK3A"
      },
      "source": [
        "#***Relational Operators:***"
      ]
    },
    {
      "cell_type": "code",
      "metadata": {
        "id": "inmHdUCQWxfS"
      },
      "source": [
        "x = 250\n",
        "y = 100"
      ],
      "execution_count": null,
      "outputs": []
    },
    {
      "cell_type": "code",
      "metadata": {
        "id": "qKcimYypXFSE",
        "outputId": "a76e68f0-88f4-4769-81f9-bf0ad10f7809",
        "colab": {
          "base_uri": "https://localhost:8080/",
          "height": 34
        }
      },
      "source": [
        "x>y"
      ],
      "execution_count": null,
      "outputs": [
        {
          "output_type": "execute_result",
          "data": {
            "text/plain": [
              "True"
            ]
          },
          "metadata": {
            "tags": []
          },
          "execution_count": 20
        }
      ]
    },
    {
      "cell_type": "code",
      "metadata": {
        "id": "bIkoy7kOXNV3",
        "outputId": "2dad8b85-0b64-4da0-f625-2e531cb016ee",
        "colab": {
          "base_uri": "https://localhost:8080/",
          "height": 34
        }
      },
      "source": [
        "x<y"
      ],
      "execution_count": null,
      "outputs": [
        {
          "output_type": "execute_result",
          "data": {
            "text/plain": [
              "False"
            ]
          },
          "metadata": {
            "tags": []
          },
          "execution_count": 21
        }
      ]
    },
    {
      "cell_type": "code",
      "metadata": {
        "id": "F06bRJlPXP_I",
        "outputId": "cbd4e654-fb69-4560-c8c2-b2bb9d7ceb36",
        "colab": {
          "base_uri": "https://localhost:8080/",
          "height": 34
        }
      },
      "source": [
        "x==y"
      ],
      "execution_count": null,
      "outputs": [
        {
          "output_type": "execute_result",
          "data": {
            "text/plain": [
              "False"
            ]
          },
          "metadata": {
            "tags": []
          },
          "execution_count": 22
        }
      ]
    },
    {
      "cell_type": "code",
      "metadata": {
        "id": "L_5t1JoQXUxD",
        "outputId": "357c245c-67ee-4f25-fc44-47d3048529ed",
        "colab": {
          "base_uri": "https://localhost:8080/",
          "height": 34
        }
      },
      "source": [
        "x!=y"
      ],
      "execution_count": null,
      "outputs": [
        {
          "output_type": "execute_result",
          "data": {
            "text/plain": [
              "True"
            ]
          },
          "metadata": {
            "tags": []
          },
          "execution_count": 23
        }
      ]
    },
    {
      "cell_type": "code",
      "metadata": {
        "id": "w7gocPTFXbId",
        "outputId": "2ee2d173-c76b-46d8-bf32-8e88cd20d9f3",
        "colab": {
          "base_uri": "https://localhost:8080/",
          "height": 34
        }
      },
      "source": [
        "x>=y"
      ],
      "execution_count": null,
      "outputs": [
        {
          "output_type": "execute_result",
          "data": {
            "text/plain": [
              "True"
            ]
          },
          "metadata": {
            "tags": []
          },
          "execution_count": 24
        }
      ]
    },
    {
      "cell_type": "code",
      "metadata": {
        "id": "163j-vmgXhRH",
        "outputId": "8c40012b-ed62-471e-cbb7-f6a41fd8ff6b",
        "colab": {
          "base_uri": "https://localhost:8080/",
          "height": 34
        }
      },
      "source": [
        "x<=y"
      ],
      "execution_count": null,
      "outputs": [
        {
          "output_type": "execute_result",
          "data": {
            "text/plain": [
              "False"
            ]
          },
          "metadata": {
            "tags": []
          },
          "execution_count": 25
        }
      ]
    },
    {
      "cell_type": "markdown",
      "metadata": {
        "id": "lTZ1lXV1XudG"
      },
      "source": [
        "***Chaining Comparisons:***"
      ]
    },
    {
      "cell_type": "code",
      "metadata": {
        "id": "ipIay-nIX7II"
      },
      "source": [
        "x=5\n",
        "y=10"
      ],
      "execution_count": null,
      "outputs": []
    },
    {
      "cell_type": "code",
      "metadata": {
        "id": "iity3MRXYAVF",
        "outputId": "04adb32a-043b-4deb-e9f5-89e8ef2632e1",
        "colab": {
          "base_uri": "https://localhost:8080/",
          "height": 34
        }
      },
      "source": [
        "1<=x<=7"
      ],
      "execution_count": null,
      "outputs": [
        {
          "output_type": "execute_result",
          "data": {
            "text/plain": [
              "True"
            ]
          },
          "metadata": {
            "tags": []
          },
          "execution_count": 27
        }
      ]
    },
    {
      "cell_type": "code",
      "metadata": {
        "id": "ImjVPFC5YLKn",
        "outputId": "e0f9d153-d2f4-4d14-fc46-86d1c99225f5",
        "colab": {
          "base_uri": "https://localhost:8080/",
          "height": 34
        }
      },
      "source": [
        "1<=y<=7"
      ],
      "execution_count": null,
      "outputs": [
        {
          "output_type": "execute_result",
          "data": {
            "text/plain": [
              "False"
            ]
          },
          "metadata": {
            "tags": []
          },
          "execution_count": 28
        }
      ]
    },
    {
      "cell_type": "markdown",
      "metadata": {
        "id": "Ighkb92Jb6tK"
      },
      "source": [
        "#***Print Function:***"
      ]
    },
    {
      "cell_type": "markdown",
      "metadata": {
        "id": "WBR-mT2bcQnK"
      },
      "source": [
        "***Printing A Comma-Separated List of Items:***"
      ]
    },
    {
      "cell_type": "code",
      "metadata": {
        "id": "eGZkJO_0cgWd",
        "outputId": "1d9a6455-5675-4408-ecf8-214ab7fbd3bd",
        "colab": {
          "base_uri": "https://localhost:8080/",
          "height": 34
        }
      },
      "source": [
        "print('I','Am','Mithun','Ahmed','Pranta')"
      ],
      "execution_count": null,
      "outputs": [
        {
          "output_type": "stream",
          "text": [
            "I Am Mithun Ahmed Pranta\n"
          ],
          "name": "stdout"
        }
      ]
    },
    {
      "cell_type": "markdown",
      "metadata": {
        "id": "xROdXQ42c--o"
      },
      "source": [
        "***Printing Many Lines Of Text With One Statement:***"
      ]
    },
    {
      "cell_type": "code",
      "metadata": {
        "id": "3OwmASX2dPB5",
        "outputId": "05e2970f-ae89-4cdc-c139-0fa53c436d11",
        "colab": {
          "base_uri": "https://localhost:8080/",
          "height": 68
        }
      },
      "source": [
        "print('Welcome\\nTo\\nPython!')"
      ],
      "execution_count": null,
      "outputs": [
        {
          "output_type": "stream",
          "text": [
            "Welcome\n",
            "To\n",
            "Python!\n"
          ],
          "name": "stdout"
        }
      ]
    },
    {
      "cell_type": "markdown",
      "metadata": {
        "id": "twZwnhiueL7z"
      },
      "source": [
        "***Ignoring A Line Break In A Long String:***"
      ]
    },
    {
      "cell_type": "code",
      "metadata": {
        "id": "dnsouLUWeXUB",
        "outputId": "baae2bef-36ae-49b1-a3fb-0a94945ccaf5",
        "colab": {
          "base_uri": "https://localhost:8080/",
          "height": 34
        }
      },
      "source": [
        "print('I Am Mithun Ahmed Pranta , \\\n",
        "My Id Is 163-15-1117 .')"
      ],
      "execution_count": 38,
      "outputs": [
        {
          "output_type": "stream",
          "text": [
            "I Am Mithun Ahmed Pranta , My Id Is 163-15-1117 .\n"
          ],
          "name": "stdout"
        }
      ]
    },
    {
      "cell_type": "markdown",
      "metadata": {
        "id": "pG4qXb5UfjsR"
      },
      "source": [
        "***Printing The Value Of An Expression:***"
      ]
    },
    {
      "cell_type": "code",
      "metadata": {
        "id": "oHb7i8Cyfvwf",
        "outputId": "c87c1c59-eec6-4f03-d246-bea05f275e3d",
        "colab": {
          "base_uri": "https://localhost:8080/",
          "height": 34
        }
      },
      "source": [
        "print('Sum Is', 5+5)"
      ],
      "execution_count": 39,
      "outputs": [
        {
          "output_type": "stream",
          "text": [
            "Sum Is 10\n"
          ],
          "name": "stdout"
        }
      ]
    },
    {
      "cell_type": "markdown",
      "metadata": {
        "id": "nPFH7GnvgcP-"
      },
      "source": [
        "#***Getting Input From User:***"
      ]
    },
    {
      "cell_type": "markdown",
      "metadata": {
        "id": "pmdzFhXMgpVg"
      },
      "source": [
        "***The Built-in Input Function Request And Obtains User Input:***"
      ]
    },
    {
      "cell_type": "code",
      "metadata": {
        "id": "9foM0inLg-cP",
        "outputId": "2f112d75-d3ac-4e44-e152-f9b1a7a72934",
        "colab": {
          "base_uri": "https://localhost:8080/",
          "height": 34
        }
      },
      "source": [
        "name = input(\"What is your name?\")"
      ],
      "execution_count": 40,
      "outputs": [
        {
          "output_type": "stream",
          "text": [
            "What is your name?Mithun Ahmed Pranta\n"
          ],
          "name": "stdout"
        }
      ]
    },
    {
      "cell_type": "code",
      "metadata": {
        "id": "BKE_4ofDhLOm",
        "outputId": "41abd042-edc2-4e68-9ee7-f684c6b7e6b0",
        "colab": {
          "base_uri": "https://localhost:8080/",
          "height": 34
        }
      },
      "source": [
        "print(name)"
      ],
      "execution_count": 41,
      "outputs": [
        {
          "output_type": "stream",
          "text": [
            "Mithun Ahmed Pranta\n"
          ],
          "name": "stdout"
        }
      ]
    },
    {
      "cell_type": "code",
      "metadata": {
        "id": "vXYBq2VphXte",
        "outputId": "d1929eab-7e28-4bfd-d963-d56543ebe835",
        "colab": {
          "base_uri": "https://localhost:8080/",
          "height": 51
        }
      },
      "source": [
        "value1 = input('Enter first number:' )\n",
        "value2 = input('Enter second number:' )"
      ],
      "execution_count": 42,
      "outputs": [
        {
          "output_type": "stream",
          "text": [
            "Enter first number:40\n",
            "Enter second number:60\n"
          ],
          "name": "stdout"
        }
      ]
    },
    {
      "cell_type": "code",
      "metadata": {
        "id": "-OPN4sr6iDLQ",
        "outputId": "91f8064b-b6af-4f3c-ff93-9ba4e34ef943",
        "colab": {
          "base_uri": "https://localhost:8080/",
          "height": 34
        }
      },
      "source": [
        "total = int(value1) + int(value2)\n",
        "print(total)"
      ],
      "execution_count": 43,
      "outputs": [
        {
          "output_type": "stream",
          "text": [
            "100\n"
          ],
          "name": "stdout"
        }
      ]
    },
    {
      "cell_type": "markdown",
      "metadata": {
        "id": "xVvFbNnejNS-"
      },
      "source": [
        "#***Solving Problem:***"
      ]
    },
    {
      "cell_type": "markdown",
      "metadata": {
        "id": "gUU5TMa9jZvv"
      },
      "source": [
        "***Determining The Minimum & Maximum With Built-in Functions Min And Max:***"
      ]
    },
    {
      "cell_type": "code",
      "metadata": {
        "id": "DSvLZG4yj1zN",
        "outputId": "0843e437-a7b9-4891-b67e-3dacde99c01c",
        "colab": {
          "base_uri": "https://localhost:8080/",
          "height": 68
        }
      },
      "source": [
        "number1 = int(input('Enter 1st integer: '))\n",
        "number2 = int(input('Enter 2nd integer: '))\n",
        "number3 = int(input('Enter 3rd integer: '))"
      ],
      "execution_count": 44,
      "outputs": [
        {
          "output_type": "stream",
          "text": [
            "Enter 1st integer: 30\n",
            "Enter 2nd integer: 60\n",
            "Enter 3rd integer: 90\n"
          ],
          "name": "stdout"
        }
      ]
    },
    {
      "cell_type": "code",
      "metadata": {
        "id": "G7pF775dkbVA",
        "outputId": "8303e416-c688-457b-9b78-4e803ee618b5",
        "colab": {
          "base_uri": "https://localhost:8080/",
          "height": 34
        }
      },
      "source": [
        "min(number1,number2,number3)"
      ],
      "execution_count": 45,
      "outputs": [
        {
          "output_type": "execute_result",
          "data": {
            "text/plain": [
              "30"
            ]
          },
          "metadata": {
            "tags": []
          },
          "execution_count": 45
        }
      ]
    },
    {
      "cell_type": "code",
      "metadata": {
        "id": "cMWbCswNkrf6",
        "outputId": "a8df9471-c9bc-404a-d48f-4bc7c88139af",
        "colab": {
          "base_uri": "https://localhost:8080/",
          "height": 34
        }
      },
      "source": [
        "max(number1,number2,number3)"
      ],
      "execution_count": 46,
      "outputs": [
        {
          "output_type": "execute_result",
          "data": {
            "text/plain": [
              "90"
            ]
          },
          "metadata": {
            "tags": []
          },
          "execution_count": 46
        }
      ]
    },
    {
      "cell_type": "markdown",
      "metadata": {
        "id": "uF7AhgSvk2vw"
      },
      "source": [
        "#***Exercises:***"
      ]
    },
    {
      "cell_type": "code",
      "metadata": {
        "id": "GJyoeBSrk8NA"
      },
      "source": [
        "x = 2\n",
        "y = 3"
      ],
      "execution_count": 47,
      "outputs": []
    },
    {
      "cell_type": "code",
      "metadata": {
        "id": "83K00zwolWiU",
        "outputId": "895dba84-c78b-484f-ccd3-2fdc8d483a54",
        "colab": {
          "base_uri": "https://localhost:8080/",
          "height": 34
        }
      },
      "source": [
        "print('x =', x)"
      ],
      "execution_count": 48,
      "outputs": [
        {
          "output_type": "stream",
          "text": [
            "x = 2\n"
          ],
          "name": "stdout"
        }
      ]
    },
    {
      "cell_type": "code",
      "metadata": {
        "id": "-W7gQxnYlcc0",
        "outputId": "f21b50d5-6a90-4c69-c352-8f613b7de016",
        "colab": {
          "base_uri": "https://localhost:8080/",
          "height": 34
        }
      },
      "source": [
        "print('Value of', x, '+', x, 'is', (x+x))"
      ],
      "execution_count": 49,
      "outputs": [
        {
          "output_type": "stream",
          "text": [
            "Value of 2 + 2 is 4\n"
          ],
          "name": "stdout"
        }
      ]
    },
    {
      "cell_type": "code",
      "metadata": {
        "id": "Hvgl7yP4lyrT",
        "outputId": "d242e852-9bab-4c33-f536-8fa10e003bf2",
        "colab": {
          "base_uri": "https://localhost:8080/",
          "height": 34
        }
      },
      "source": [
        "print('x =')"
      ],
      "execution_count": 50,
      "outputs": [
        {
          "output_type": "stream",
          "text": [
            "x =\n"
          ],
          "name": "stdout"
        }
      ]
    },
    {
      "cell_type": "code",
      "metadata": {
        "id": "5baWLUu1l9ue",
        "outputId": "dcd821e5-eec0-4ce7-80f2-0d8007f4a265",
        "colab": {
          "base_uri": "https://localhost:8080/",
          "height": 34
        }
      },
      "source": [
        "print((x+y), '=', (y+x))"
      ],
      "execution_count": 51,
      "outputs": [
        {
          "output_type": "stream",
          "text": [
            "5 = 5\n"
          ],
          "name": "stdout"
        }
      ]
    }
  ]
}